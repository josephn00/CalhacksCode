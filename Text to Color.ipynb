{
 "cells": [
  {
   "cell_type": "code",
   "execution_count": 5,
   "metadata": {},
   "outputs": [],
   "source": [
    "from textblob import TextBlob"
   ]
  },
  {
   "cell_type": "code",
   "execution_count": 39,
   "metadata": {},
   "outputs": [
    {
     "name": "stdout",
     "output_type": "stream",
     "text": [
      "Sentiment(polarity=1.0, subjectivity=1.0)\n",
      "ffff00\n"
     ]
    }
   ],
   "source": [
    "#enter what you want to say!\n",
    "testimonial = TextBlob(\"I'm having an awesome time!\")\n",
    "print(testimonial.sentiment)\n",
    "sentiment = testimonial.sentiment\n",
    "\n",
    "#ensuring correct number of digits in hex code\n",
    "def protect(code):\n",
    "    if len(code) < 2:\n",
    "        return '0' + code\n",
    "    else:\n",
    "        return code\n",
    "\n",
    "#calculating red and blue based on polarity\n",
    "positivity = sentiment[0]\n",
    "positivity_offset = positivity * 255/2\n",
    "r = 255/2 + positivity_offset\n",
    "b = 255/2 - positivity_offset\n",
    "r_hex = protect(hex(int(r)).replace('0x',''))\n",
    "b_hex = protect(hex(int(b)).replace('0x',''))\n",
    "\n",
    "#calculating green\n",
    "#g_scale = 1/5 #g could be set arbitrarily, or...\n",
    "g_scale = sentiment[1] #g could be based on subjectivity of text\n",
    "g = 255*g_scale\n",
    "g_hex = protect(hex(int(g)).replace('0x',''))\n",
    "\n",
    "hexadecimal = r_hex + g_hex + b_hex\n",
    "print(hexadecimal)"
   ]
  },
  {
   "cell_type": "code",
   "execution_count": 40,
   "metadata": {},
   "outputs": [
    {
     "data": {
      "text/plain": [
       "<matplotlib.patches.Rectangle at 0x1a25734cf8>"
      ]
     },
     "execution_count": 40,
     "metadata": {},
     "output_type": "execute_result"
    },
    {
     "data": {
      "image/png": "[encoded data removed]",
      "text/plain": [
       "<Figure size 432x288 with 1 Axes>"
      ]
     },
     "metadata": {
      "needs_background": "light"
     },
     "output_type": "display_data"
    }
   ],
   "source": [
    "#displaying rectangle with color\n",
    "from matplotlib import pyplot as plt\n",
    "from matplotlib.patches import Rectangle\n",
    "with_pound = '#' + hexadecimal\n",
    "currentAxis = plt.gca()\n",
    "currentAxis.add_patch(Rectangle((0, 0), 1, 1,\n",
    "                      alpha=1, facecolor=with_pound))"
   ]
  },
  {
   "cell_type": "code",
   "execution_count": null,
   "metadata": {},
   "outputs": [],
   "source": []
  }
 ],
 "metadata": {
  "kernelspec": {
   "display_name": "Python 3",
   "language": "python",
   "name": "python3"
  },
  "language_info": {
   "codemirror_mode": {
    "name": "ipython",
    "version": 3
   },
   "file_extension": ".py",
   "mimetype": "text/x-python",
   "name": "python",
   "nbconvert_exporter": "python",
   "pygments_lexer": "ipython3",
   "version": "3.7.0"
  }
 },
 "nbformat": 4,
 "nbformat_minor": 2
}
